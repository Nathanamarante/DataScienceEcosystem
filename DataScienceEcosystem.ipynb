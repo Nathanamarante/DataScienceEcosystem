{
 "cells": [
  {
   "cell_type": "markdown",
   "id": "a1ff20a5-9271-4162-8654-002961dca0cc",
   "metadata": {},
   "source": [
    "# Data Science Tools and Ecosystem\n"
   ]
  },
  {
   "cell_type": "markdown",
   "id": "bd9558d6-7b67-48c6-bf51-6b51155ba448",
   "metadata": {},
   "source": [
    "In this notebook, Data Science Tools and Ecosystem are summarized."
   ]
  },
  {
   "cell_type": "markdown",
   "id": "51b8e56d-4dba-412d-b07a-a2033223ade2",
   "metadata": {},
   "source": [
    "**Objectives:**\n",
    "\n",
    "- List popular languages for Data Science\n",
    "- Explore commonly used libraries in Data Science\n",
    "- Understand the use of Markdown cells in Jupyter Notebooks\n",
    "- Demonstrate arithmetic expressions in Python\n",
    "- Convert units such as minutes to hours\n"
   ]
  },
  {
   "cell_type": "markdown",
   "id": "fa983650-fbdb-405b-8699-fc8f5bf892a0",
   "metadata": {},
   "source": [
    "Some of the popular languages that Data Scientists use are:"
   ]
  },
  {
   "cell_type": "markdown",
   "id": "d11ca2b8-9d35-40e0-9228-bbe9d918d876",
   "metadata": {},
   "source": [
    "1. Python\n",
    "2. R\n",
    "3. SQL\n"
   ]
  },
  {
   "cell_type": "markdown",
   "id": "fbce2ef4-2e20-43b4-9741-d0f722391b80",
   "metadata": {},
   "source": []
  },
  {
   "cell_type": "markdown",
   "id": "329cd318-dc32-40a7-a521-e39c25e75248",
   "metadata": {},
   "source": [
    "Some of the commonly used libraries used by Data Scientists include:"
   ]
  },
  {
   "cell_type": "markdown",
   "id": "8f324140-34d8-4c8c-82eb-20e6facae3bd",
   "metadata": {},
   "source": [
    "1. Pandas\n",
    "2. NumPy\n",
    "3. Matplotlib\n",
    "4. Plotly\n",
    "5. TensorFlow"
   ]
  },
  {
   "cell_type": "code",
   "execution_count": null,
   "id": "0aed4e81-cb78-49de-870d-0c811b841411",
   "metadata": {},
   "outputs": [],
   "source": []
  },
  {
   "cell_type": "markdown",
   "id": "68121f45-6cf0-4350-9636-8ef62490a9eb",
   "metadata": {},
   "source": [
    "| Data Science Tools         |\n",
    "|----------------------------|\n",
    "| Jupyter Notebook           |\n",
    "| RStudio                    |\n",
    "| Apache Zeppelin            |\n"
   ]
  },
  {
   "cell_type": "code",
   "execution_count": null,
   "id": "1d9c3a80-9038-4093-afe1-c8cfde8e7497",
   "metadata": {},
   "outputs": [],
   "source": []
  },
  {
   "cell_type": "markdown",
   "id": "bc9ae75e-07e0-4b7a-9cf5-fea00a6e8f65",
   "metadata": {},
   "source": [
    "### Below are a few examples of evaluating arithmetic expressions in Python:\n"
   ]
  },
  {
   "cell_type": "code",
   "execution_count": 7,
   "id": "b597fc26-9f1a-45be-9326-911fe53918db",
   "metadata": {},
   "outputs": [],
   "source": [
    "#This a simple arithmetic expression to mutiply then add integers"
   ]
  },
  {
   "cell_type": "code",
   "execution_count": 6,
   "id": "9eb40d58-94c3-4822-8fe5-7198e4617a33",
   "metadata": {},
   "outputs": [
    {
     "data": {
      "text/plain": [
       "17"
      ]
     },
     "execution_count": 6,
     "metadata": {},
     "output_type": "execute_result"
    }
   ],
   "source": [
    "(3*4)+5"
   ]
  },
  {
   "cell_type": "code",
   "execution_count": 9,
   "id": "b9bc1166-e838-46b1-9e9f-86cfbe11c597",
   "metadata": {},
   "outputs": [],
   "source": [
    "# This will convert 200 minutes to hours by dividing by 60"
   ]
  },
  {
   "cell_type": "code",
   "execution_count": 8,
   "id": "df334a82-de3c-476e-916b-57ed9c873bf4",
   "metadata": {},
   "outputs": [
    {
     "data": {
      "text/plain": [
       "3.3333333333333335"
      ]
     },
     "execution_count": 8,
     "metadata": {},
     "output_type": "execute_result"
    }
   ],
   "source": [
    "minutes = 200\n",
    "hours = minutes / 60\n",
    "hours\n"
   ]
  },
  {
   "cell_type": "markdown",
   "id": "5066d0a5-6877-4eda-bc45-eca6ff0b3339",
   "metadata": {},
   "source": [
    "## Autor\n",
    "Nathan Bryce"
   ]
  },
  {
   "cell_type": "code",
   "execution_count": null,
   "id": "18a04cd3-7d98-41a9-9ca6-f0fdaf1c5936",
   "metadata": {},
   "outputs": [],
   "source": []
  }
 ],
 "metadata": {
  "kernelspec": {
   "display_name": "Python 3 (ipykernel)",
   "language": "python",
   "name": "python3"
  },
  "language_info": {
   "codemirror_mode": {
    "name": "ipython",
    "version": 3
   },
   "file_extension": ".py",
   "mimetype": "text/x-python",
   "name": "python",
   "nbconvert_exporter": "python",
   "pygments_lexer": "ipython3",
   "version": "3.11.9"
  }
 },
 "nbformat": 4,
 "nbformat_minor": 5
}
